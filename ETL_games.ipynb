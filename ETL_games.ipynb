{
 "cells": [
  {
   "cell_type": "markdown",
   "metadata": {},
   "source": [
    "# **ETL del Proyecto 1: MLOps**\n",
    "### Tabla steam_games\n",
    "#### Importando librerias:"
   ]
  },
  {
   "cell_type": "code",
   "execution_count": 31,
   "metadata": {},
   "outputs": [],
   "source": [
    "import pandas as pd\n",
    "import numpy as np\n",
    "import json"
   ]
  },
  {
   "cell_type": "markdown",
   "metadata": {},
   "source": [
    "## **Empezando la Extracción**"
   ]
  },
  {
   "cell_type": "code",
   "execution_count": 32,
   "metadata": {},
   "outputs": [
    {
     "name": "stdout",
     "output_type": "stream",
     "text": [
      "{'publisher': nan, 'genres': nan, 'app_name': nan, 'title': nan, 'url': nan, 'release_date': nan, 'tags': nan, 'reviews_url': nan, 'specs': nan, 'price': nan, 'early_access': nan, 'id': nan, 'developer': nan}\n",
      "{'publisher': nan, 'genres': nan, 'app_name': nan, 'title': nan, 'url': nan, 'release_date': nan, 'tags': nan, 'reviews_url': nan, 'specs': nan, 'price': nan, 'early_access': nan, 'id': nan, 'developer': nan}\n",
      "{'publisher': nan, 'genres': nan, 'app_name': nan, 'title': nan, 'url': nan, 'release_date': nan, 'tags': nan, 'reviews_url': nan, 'specs': nan, 'price': nan, 'early_access': nan, 'id': nan, 'developer': nan}\n",
      "{'publisher': nan, 'genres': nan, 'app_name': nan, 'title': nan, 'url': nan, 'release_date': nan, 'tags': nan, 'reviews_url': nan, 'specs': nan, 'price': nan, 'early_access': nan, 'id': nan, 'developer': nan}\n",
      "{'publisher': nan, 'genres': nan, 'app_name': nan, 'title': nan, 'url': nan, 'release_date': nan, 'tags': nan, 'reviews_url': nan, 'specs': nan, 'price': nan, 'early_access': nan, 'id': nan, 'developer': nan}\n"
     ]
    }
   ],
   "source": [
    "ruta_steam_games = r\"C:\\\\Users\\\\Usuario\\\\Desktop\\\\Labs\\\\Proyecto_1\\\\datasets_originales\\\\output_steam_games.json\"\n",
    "\n",
    "steam_games = [] # Lista que guarda los json leidos\n",
    "\n",
    "with open(ruta_steam_games, \"r\") as games:\n",
    "    for linea in games:\n",
    "        steam_game = json.loads(linea)\n",
    "        steam_games.append(steam_game)\n",
    "\n",
    "for i in range(5):   # Verificamos que el contenido se guardo en la lista\n",
    "    print(steam_games[i])"
   ]
  },
  {
   "cell_type": "markdown",
   "metadata": {},
   "source": [
    "#### Convertimos la lista en DataFrame y visualizamos:"
   ]
  },
  {
   "cell_type": "code",
   "execution_count": 33,
   "metadata": {},
   "outputs": [
    {
     "data": {
      "text/html": [
       "<div>\n",
       "<style scoped>\n",
       "    .dataframe tbody tr th:only-of-type {\n",
       "        vertical-align: middle;\n",
       "    }\n",
       "\n",
       "    .dataframe tbody tr th {\n",
       "        vertical-align: top;\n",
       "    }\n",
       "\n",
       "    .dataframe thead th {\n",
       "        text-align: right;\n",
       "    }\n",
       "</style>\n",
       "<table border=\"1\" class=\"dataframe\">\n",
       "  <thead>\n",
       "    <tr style=\"text-align: right;\">\n",
       "      <th></th>\n",
       "      <th>publisher</th>\n",
       "      <th>genres</th>\n",
       "      <th>app_name</th>\n",
       "      <th>title</th>\n",
       "      <th>url</th>\n",
       "      <th>release_date</th>\n",
       "      <th>tags</th>\n",
       "      <th>reviews_url</th>\n",
       "      <th>specs</th>\n",
       "      <th>price</th>\n",
       "      <th>early_access</th>\n",
       "      <th>id</th>\n",
       "      <th>developer</th>\n",
       "    </tr>\n",
       "  </thead>\n",
       "  <tbody>\n",
       "    <tr>\n",
       "      <th>120442</th>\n",
       "      <td>Laush Studio</td>\n",
       "      <td>[Indie, Racing, Simulation]</td>\n",
       "      <td>Russian Roads</td>\n",
       "      <td>Russian Roads</td>\n",
       "      <td>http://store.steampowered.com/app/610660/Russi...</td>\n",
       "      <td>2018-01-04</td>\n",
       "      <td>[Indie, Simulation, Racing]</td>\n",
       "      <td>http://steamcommunity.com/app/610660/reviews/?...</td>\n",
       "      <td>[Single-player, Steam Achievements, Steam Trad...</td>\n",
       "      <td>1.99</td>\n",
       "      <td>False</td>\n",
       "      <td>610660</td>\n",
       "      <td>Laush Dmitriy Sergeevich</td>\n",
       "    </tr>\n",
       "    <tr>\n",
       "      <th>120443</th>\n",
       "      <td>SIXNAILS</td>\n",
       "      <td>[Casual, Indie]</td>\n",
       "      <td>EXIT 2 - Directions</td>\n",
       "      <td>EXIT 2 - Directions</td>\n",
       "      <td>http://store.steampowered.com/app/658870/EXIT_...</td>\n",
       "      <td>2017-09-02</td>\n",
       "      <td>[Indie, Casual, Puzzle, Singleplayer, Atmosphe...</td>\n",
       "      <td>http://steamcommunity.com/app/658870/reviews/?...</td>\n",
       "      <td>[Single-player, Steam Achievements, Steam Cloud]</td>\n",
       "      <td>4.99</td>\n",
       "      <td>False</td>\n",
       "      <td>658870</td>\n",
       "      <td>xropi,stev3ns</td>\n",
       "    </tr>\n",
       "    <tr>\n",
       "      <th>120444</th>\n",
       "      <td>NaN</td>\n",
       "      <td>NaN</td>\n",
       "      <td>Maze Run VR</td>\n",
       "      <td>NaN</td>\n",
       "      <td>http://store.steampowered.com/app/681550/Maze_...</td>\n",
       "      <td>NaN</td>\n",
       "      <td>[Early Access, Adventure, Indie, Action, Simul...</td>\n",
       "      <td>http://steamcommunity.com/app/681550/reviews/?...</td>\n",
       "      <td>[Single-player, Stats, Steam Leaderboards, HTC...</td>\n",
       "      <td>4.99</td>\n",
       "      <td>True</td>\n",
       "      <td>681550</td>\n",
       "      <td>NaN</td>\n",
       "    </tr>\n",
       "  </tbody>\n",
       "</table>\n",
       "</div>"
      ],
      "text/plain": [
       "           publisher                       genres             app_name  \\\n",
       "120442  Laush Studio  [Indie, Racing, Simulation]        Russian Roads   \n",
       "120443      SIXNAILS              [Casual, Indie]  EXIT 2 - Directions   \n",
       "120444           NaN                          NaN          Maze Run VR   \n",
       "\n",
       "                      title  \\\n",
       "120442        Russian Roads   \n",
       "120443  EXIT 2 - Directions   \n",
       "120444                  NaN   \n",
       "\n",
       "                                                      url release_date  \\\n",
       "120442  http://store.steampowered.com/app/610660/Russi...   2018-01-04   \n",
       "120443  http://store.steampowered.com/app/658870/EXIT_...   2017-09-02   \n",
       "120444  http://store.steampowered.com/app/681550/Maze_...          NaN   \n",
       "\n",
       "                                                     tags  \\\n",
       "120442                        [Indie, Simulation, Racing]   \n",
       "120443  [Indie, Casual, Puzzle, Singleplayer, Atmosphe...   \n",
       "120444  [Early Access, Adventure, Indie, Action, Simul...   \n",
       "\n",
       "                                              reviews_url  \\\n",
       "120442  http://steamcommunity.com/app/610660/reviews/?...   \n",
       "120443  http://steamcommunity.com/app/658870/reviews/?...   \n",
       "120444  http://steamcommunity.com/app/681550/reviews/?...   \n",
       "\n",
       "                                                    specs price early_access  \\\n",
       "120442  [Single-player, Steam Achievements, Steam Trad...  1.99        False   \n",
       "120443   [Single-player, Steam Achievements, Steam Cloud]  4.99        False   \n",
       "120444  [Single-player, Stats, Steam Leaderboards, HTC...  4.99         True   \n",
       "\n",
       "            id                 developer  \n",
       "120442  610660  Laush Dmitriy Sergeevich  \n",
       "120443  658870             xropi,stev3ns  \n",
       "120444  681550                       NaN  "
      ]
     },
     "execution_count": 33,
     "metadata": {},
     "output_type": "execute_result"
    }
   ],
   "source": [
    "df_games = pd.DataFrame(steam_games)\n",
    "df_games.tail(3)"
   ]
  },
  {
   "cell_type": "markdown",
   "metadata": {},
   "source": [
    "## **Empezamos la transformación**"
   ]
  },
  {
   "cell_type": "code",
   "execution_count": 34,
   "metadata": {},
   "outputs": [
    {
     "name": "stdout",
     "output_type": "stream",
     "text": [
      "<class 'pandas.core.frame.DataFrame'>\n",
      "RangeIndex: 120445 entries, 0 to 120444\n",
      "Data columns (total 13 columns):\n",
      " #   Column        Non-Null Count  Dtype \n",
      "---  ------        --------------  ----- \n",
      " 0   publisher     24083 non-null  object\n",
      " 1   genres        28852 non-null  object\n",
      " 2   app_name      32133 non-null  object\n",
      " 3   title         30085 non-null  object\n",
      " 4   url           32135 non-null  object\n",
      " 5   release_date  30068 non-null  object\n",
      " 6   tags          31972 non-null  object\n",
      " 7   reviews_url   32133 non-null  object\n",
      " 8   specs         31465 non-null  object\n",
      " 9   price         30758 non-null  object\n",
      " 10  early_access  32135 non-null  object\n",
      " 11  id            32133 non-null  object\n",
      " 12  developer     28836 non-null  object\n",
      "dtypes: object(13)\n",
      "memory usage: 11.9+ MB\n"
     ]
    }
   ],
   "source": [
    "df_games.info()"
   ]
  },
  {
   "cell_type": "markdown",
   "metadata": {},
   "source": [
    "Encontramos que mas de 80 mil registros están vacios, procedemos a eliminarlos:"
   ]
  },
  {
   "cell_type": "code",
   "execution_count": 35,
   "metadata": {},
   "outputs": [
    {
     "name": "stdout",
     "output_type": "stream",
     "text": [
      "<class 'pandas.core.frame.DataFrame'>\n",
      "Index: 32135 entries, 88310 to 120444\n",
      "Data columns (total 13 columns):\n",
      " #   Column        Non-Null Count  Dtype \n",
      "---  ------        --------------  ----- \n",
      " 0   publisher     24083 non-null  object\n",
      " 1   genres        28852 non-null  object\n",
      " 2   app_name      32133 non-null  object\n",
      " 3   title         30085 non-null  object\n",
      " 4   url           32135 non-null  object\n",
      " 5   release_date  30068 non-null  object\n",
      " 6   tags          31972 non-null  object\n",
      " 7   reviews_url   32133 non-null  object\n",
      " 8   specs         31465 non-null  object\n",
      " 9   price         30758 non-null  object\n",
      " 10  early_access  32135 non-null  object\n",
      " 11  id            32133 non-null  object\n",
      " 12  developer     28836 non-null  object\n",
      "dtypes: object(13)\n",
      "memory usage: 3.4+ MB\n"
     ]
    }
   ],
   "source": [
    "df_games = df_games.dropna(how=\"all\")\n",
    "df_games.info()"
   ]
  },
  {
   "cell_type": "markdown",
   "metadata": {},
   "source": [
    "Al ver las columnas 'app_name' y 'title', estas tienen el mismo dato, queremos eliminar a 'title' ya que tiene más nulos\n",
    "que 'app_name'. Verificamos los registros que en 'app_name' son nulos:"
   ]
  },
  {
   "cell_type": "code",
   "execution_count": 36,
   "metadata": {},
   "outputs": [
    {
     "data": {
      "text/html": [
       "<div>\n",
       "<style scoped>\n",
       "    .dataframe tbody tr th:only-of-type {\n",
       "        vertical-align: middle;\n",
       "    }\n",
       "\n",
       "    .dataframe tbody tr th {\n",
       "        vertical-align: top;\n",
       "    }\n",
       "\n",
       "    .dataframe thead th {\n",
       "        text-align: right;\n",
       "    }\n",
       "</style>\n",
       "<table border=\"1\" class=\"dataframe\">\n",
       "  <thead>\n",
       "    <tr style=\"text-align: right;\">\n",
       "      <th></th>\n",
       "      <th>publisher</th>\n",
       "      <th>genres</th>\n",
       "      <th>app_name</th>\n",
       "      <th>title</th>\n",
       "      <th>url</th>\n",
       "      <th>release_date</th>\n",
       "      <th>tags</th>\n",
       "      <th>reviews_url</th>\n",
       "      <th>specs</th>\n",
       "      <th>price</th>\n",
       "      <th>early_access</th>\n",
       "      <th>id</th>\n",
       "      <th>developer</th>\n",
       "    </tr>\n",
       "  </thead>\n",
       "  <tbody>\n",
       "    <tr>\n",
       "      <th>88384</th>\n",
       "      <td>NaN</td>\n",
       "      <td>NaN</td>\n",
       "      <td>NaN</td>\n",
       "      <td>NaN</td>\n",
       "      <td>http://store.steampowered.com/</td>\n",
       "      <td>NaN</td>\n",
       "      <td>NaN</td>\n",
       "      <td>NaN</td>\n",
       "      <td>NaN</td>\n",
       "      <td>19.99</td>\n",
       "      <td>False</td>\n",
       "      <td>NaN</td>\n",
       "      <td>NaN</td>\n",
       "    </tr>\n",
       "    <tr>\n",
       "      <th>90890</th>\n",
       "      <td>NaN</td>\n",
       "      <td>[Action, Indie]</td>\n",
       "      <td>NaN</td>\n",
       "      <td>NaN</td>\n",
       "      <td>http://store.steampowered.com/app/317160/_/</td>\n",
       "      <td>2014-08-26</td>\n",
       "      <td>[Action, Indie]</td>\n",
       "      <td>http://steamcommunity.com/app/317160/reviews/?...</td>\n",
       "      <td>[Single-player, Game demo]</td>\n",
       "      <td>NaN</td>\n",
       "      <td>False</td>\n",
       "      <td>317160</td>\n",
       "      <td>NaN</td>\n",
       "    </tr>\n",
       "  </tbody>\n",
       "</table>\n",
       "</div>"
      ],
      "text/plain": [
       "      publisher           genres app_name title  \\\n",
       "88384       NaN              NaN      NaN   NaN   \n",
       "90890       NaN  [Action, Indie]      NaN   NaN   \n",
       "\n",
       "                                               url release_date  \\\n",
       "88384               http://store.steampowered.com/          NaN   \n",
       "90890  http://store.steampowered.com/app/317160/_/   2014-08-26   \n",
       "\n",
       "                  tags                                        reviews_url  \\\n",
       "88384              NaN                                                NaN   \n",
       "90890  [Action, Indie]  http://steamcommunity.com/app/317160/reviews/?...   \n",
       "\n",
       "                            specs  price early_access      id developer  \n",
       "88384                         NaN  19.99        False     NaN       NaN  \n",
       "90890  [Single-player, Game demo]    NaN        False  317160       NaN  "
      ]
     },
     "execution_count": 36,
     "metadata": {},
     "output_type": "execute_result"
    }
   ],
   "source": [
    "df_games[df_games[\"app_name\"].isnull()]"
   ]
  },
  {
   "cell_type": "markdown",
   "metadata": {},
   "source": [
    "Ya que estos dos registros carecen de información procedemos a eliminarlos:"
   ]
  },
  {
   "cell_type": "code",
   "execution_count": 37,
   "metadata": {},
   "outputs": [
    {
     "data": {
      "text/html": [
       "<div>\n",
       "<style scoped>\n",
       "    .dataframe tbody tr th:only-of-type {\n",
       "        vertical-align: middle;\n",
       "    }\n",
       "\n",
       "    .dataframe tbody tr th {\n",
       "        vertical-align: top;\n",
       "    }\n",
       "\n",
       "    .dataframe thead th {\n",
       "        text-align: right;\n",
       "    }\n",
       "</style>\n",
       "<table border=\"1\" class=\"dataframe\">\n",
       "  <thead>\n",
       "    <tr style=\"text-align: right;\">\n",
       "      <th></th>\n",
       "      <th>publisher</th>\n",
       "      <th>genres</th>\n",
       "      <th>app_name</th>\n",
       "      <th>title</th>\n",
       "      <th>url</th>\n",
       "      <th>release_date</th>\n",
       "      <th>tags</th>\n",
       "      <th>reviews_url</th>\n",
       "      <th>specs</th>\n",
       "      <th>price</th>\n",
       "      <th>early_access</th>\n",
       "      <th>id</th>\n",
       "      <th>developer</th>\n",
       "    </tr>\n",
       "  </thead>\n",
       "  <tbody>\n",
       "  </tbody>\n",
       "</table>\n",
       "</div>"
      ],
      "text/plain": [
       "Empty DataFrame\n",
       "Columns: [publisher, genres, app_name, title, url, release_date, tags, reviews_url, specs, price, early_access, id, developer]\n",
       "Index: []"
      ]
     },
     "execution_count": 37,
     "metadata": {},
     "output_type": "execute_result"
    }
   ],
   "source": [
    "a_eliminar = [88384, 90890]\n",
    "df_games = df_games.drop(index=a_eliminar)\n",
    "\n",
    "df_games[df_games[\"app_name\"].isnull()]"
   ]
  },
  {
   "cell_type": "markdown",
   "metadata": {},
   "source": [
    "Comparamos las columnas 'app_name' y 'title'"
   ]
  },
  {
   "cell_type": "code",
   "execution_count": 38,
   "metadata": {},
   "outputs": [
    {
     "data": {
      "text/html": [
       "<div>\n",
       "<style scoped>\n",
       "    .dataframe tbody tr th:only-of-type {\n",
       "        vertical-align: middle;\n",
       "    }\n",
       "\n",
       "    .dataframe tbody tr th {\n",
       "        vertical-align: top;\n",
       "    }\n",
       "\n",
       "    .dataframe thead th {\n",
       "        text-align: right;\n",
       "    }\n",
       "</style>\n",
       "<table border=\"1\" class=\"dataframe\">\n",
       "  <thead>\n",
       "    <tr style=\"text-align: right;\">\n",
       "      <th></th>\n",
       "      <th>self</th>\n",
       "      <th>other</th>\n",
       "    </tr>\n",
       "  </thead>\n",
       "  <tbody>\n",
       "    <tr>\n",
       "      <th>88314</th>\n",
       "      <td>Log Challenge</td>\n",
       "      <td>NaN</td>\n",
       "    </tr>\n",
       "    <tr>\n",
       "      <th>88321</th>\n",
       "      <td>Icarus Six Sixty Six</td>\n",
       "      <td>NaN</td>\n",
       "    </tr>\n",
       "    <tr>\n",
       "      <th>88329</th>\n",
       "      <td>After Life VR</td>\n",
       "      <td>NaN</td>\n",
       "    </tr>\n",
       "    <tr>\n",
       "      <th>88330</th>\n",
       "      <td>Kitty Hawk</td>\n",
       "      <td>NaN</td>\n",
       "    </tr>\n",
       "    <tr>\n",
       "      <th>88332</th>\n",
       "      <td>Mortars VR</td>\n",
       "      <td>NaN</td>\n",
       "    </tr>\n",
       "    <tr>\n",
       "      <th>...</th>\n",
       "      <td>...</td>\n",
       "      <td>...</td>\n",
       "    </tr>\n",
       "    <tr>\n",
       "      <th>120383</th>\n",
       "      <td>Tank of War-VR</td>\n",
       "      <td>NaN</td>\n",
       "    </tr>\n",
       "    <tr>\n",
       "      <th>120386</th>\n",
       "      <td>Flappy Arms</td>\n",
       "      <td>NaN</td>\n",
       "    </tr>\n",
       "    <tr>\n",
       "      <th>120387</th>\n",
       "      <td>SpaceWalker</td>\n",
       "      <td>NaN</td>\n",
       "    </tr>\n",
       "    <tr>\n",
       "      <th>120395</th>\n",
       "      <td>LIV Client</td>\n",
       "      <td>NaN</td>\n",
       "    </tr>\n",
       "    <tr>\n",
       "      <th>120444</th>\n",
       "      <td>Maze Run VR</td>\n",
       "      <td>NaN</td>\n",
       "    </tr>\n",
       "  </tbody>\n",
       "</table>\n",
       "<p>2603 rows × 2 columns</p>\n",
       "</div>"
      ],
      "text/plain": [
       "                        self other\n",
       "88314          Log Challenge   NaN\n",
       "88321   Icarus Six Sixty Six   NaN\n",
       "88329          After Life VR   NaN\n",
       "88330             Kitty Hawk   NaN\n",
       "88332             Mortars VR   NaN\n",
       "...                      ...   ...\n",
       "120383        Tank of War-VR   NaN\n",
       "120386           Flappy Arms   NaN\n",
       "120387           SpaceWalker   NaN\n",
       "120395            LIV Client   NaN\n",
       "120444           Maze Run VR   NaN\n",
       "\n",
       "[2603 rows x 2 columns]"
      ]
     },
     "execution_count": 38,
     "metadata": {},
     "output_type": "execute_result"
    }
   ],
   "source": [
    "comparadas = df_games[\"app_name\"].compare(df_games[\"title\"])\n",
    "comparadas"
   ]
  },
  {
   "cell_type": "markdown",
   "metadata": {},
   "source": [
    "Comparamos los datos de ambas columnas cuando 'title' no tiene NaN's"
   ]
  },
  {
   "cell_type": "code",
   "execution_count": 39,
   "metadata": {},
   "outputs": [
    {
     "data": {
      "text/html": [
       "<div>\n",
       "<style scoped>\n",
       "    .dataframe tbody tr th:only-of-type {\n",
       "        vertical-align: middle;\n",
       "    }\n",
       "\n",
       "    .dataframe tbody tr th {\n",
       "        vertical-align: top;\n",
       "    }\n",
       "\n",
       "    .dataframe thead th {\n",
       "        text-align: right;\n",
       "    }\n",
       "</style>\n",
       "<table border=\"1\" class=\"dataframe\">\n",
       "  <thead>\n",
       "    <tr style=\"text-align: right;\">\n",
       "      <th></th>\n",
       "      <th>self</th>\n",
       "      <th>other</th>\n",
       "    </tr>\n",
       "  </thead>\n",
       "  <tbody>\n",
       "    <tr>\n",
       "      <th>88390</th>\n",
       "      <td>Sam &amp; Max 101: Culture Shock</td>\n",
       "      <td>Sam &amp;amp; Max 101: Culture Shock</td>\n",
       "    </tr>\n",
       "    <tr>\n",
       "      <th>88393</th>\n",
       "      <td>Sam &amp; Max 102: Situation: Comedy</td>\n",
       "      <td>Sam &amp;amp; Max 102: Situation: Comedy</td>\n",
       "    </tr>\n",
       "    <tr>\n",
       "      <th>88419</th>\n",
       "      <td>Command &amp; Conquer: Red Alert 3</td>\n",
       "      <td>Command &amp;amp; Conquer: Red Alert 3</td>\n",
       "    </tr>\n",
       "    <tr>\n",
       "      <th>88492</th>\n",
       "      <td>Heroes of Might &amp; Magic V: Hammers of Fate</td>\n",
       "      <td>Heroes of Might &amp;amp; Magic V: Hammers of Fate</td>\n",
       "    </tr>\n",
       "    <tr>\n",
       "      <th>88494</th>\n",
       "      <td>Heroes of Might &amp; Magic V: Tribes of the East</td>\n",
       "      <td>Heroes of Might &amp;amp; Magic V: Tribes of the East</td>\n",
       "    </tr>\n",
       "    <tr>\n",
       "      <th>...</th>\n",
       "      <td>...</td>\n",
       "      <td>...</td>\n",
       "    </tr>\n",
       "    <tr>\n",
       "      <th>120181</th>\n",
       "      <td>Sam &amp; Max 105: Reality 2.0</td>\n",
       "      <td>Sam &amp;amp; Max 105: Reality 2.0</td>\n",
       "    </tr>\n",
       "    <tr>\n",
       "      <th>120182</th>\n",
       "      <td>Sam &amp; Max 104: Abe Lincoln Must Die!</td>\n",
       "      <td>Sam &amp;amp; Max 104: Abe Lincoln Must Die!</td>\n",
       "    </tr>\n",
       "    <tr>\n",
       "      <th>120183</th>\n",
       "      <td>Sam &amp; Max 106: Bright Side of the Moon</td>\n",
       "      <td>Sam &amp;amp; Max 106: Bright Side of the Moon</td>\n",
       "    </tr>\n",
       "    <tr>\n",
       "      <th>120208</th>\n",
       "      <td>Making History: The Calm &amp; the Storm</td>\n",
       "      <td>Making History: The Calm &amp;amp; the Storm</td>\n",
       "    </tr>\n",
       "    <tr>\n",
       "      <th>120362</th>\n",
       "      <td>Dark Messiah of Might &amp; Magic</td>\n",
       "      <td>Dark Messiah of Might &amp;amp; Magic</td>\n",
       "    </tr>\n",
       "  </tbody>\n",
       "</table>\n",
       "<p>555 rows × 2 columns</p>\n",
       "</div>"
      ],
      "text/plain": [
       "                                                 self  \\\n",
       "88390                    Sam & Max 101: Culture Shock   \n",
       "88393                Sam & Max 102: Situation: Comedy   \n",
       "88419                  Command & Conquer: Red Alert 3   \n",
       "88492      Heroes of Might & Magic V: Hammers of Fate   \n",
       "88494   Heroes of Might & Magic V: Tribes of the East   \n",
       "...                                               ...   \n",
       "120181                     Sam & Max 105: Reality 2.0   \n",
       "120182           Sam & Max 104: Abe Lincoln Must Die!   \n",
       "120183         Sam & Max 106: Bright Side of the Moon   \n",
       "120208           Making History: The Calm & the Storm   \n",
       "120362                  Dark Messiah of Might & Magic   \n",
       "\n",
       "                                                    other  \n",
       "88390                    Sam &amp; Max 101: Culture Shock  \n",
       "88393                Sam &amp; Max 102: Situation: Comedy  \n",
       "88419                  Command &amp; Conquer: Red Alert 3  \n",
       "88492      Heroes of Might &amp; Magic V: Hammers of Fate  \n",
       "88494   Heroes of Might &amp; Magic V: Tribes of the East  \n",
       "...                                                   ...  \n",
       "120181                     Sam &amp; Max 105: Reality 2.0  \n",
       "120182           Sam &amp; Max 104: Abe Lincoln Must Die!  \n",
       "120183         Sam &amp; Max 106: Bright Side of the Moon  \n",
       "120208           Making History: The Calm &amp; the Storm  \n",
       "120362                  Dark Messiah of Might &amp; Magic  \n",
       "\n",
       "[555 rows x 2 columns]"
      ]
     },
     "execution_count": 39,
     "metadata": {},
     "output_type": "execute_result"
    }
   ],
   "source": [
    "comparadas[comparadas[\"other\"].notna()]"
   ]
  },
  {
   "cell_type": "markdown",
   "metadata": {},
   "source": [
    "Eliminamos la columna 'title' del dataframe:"
   ]
  },
  {
   "cell_type": "code",
   "execution_count": 40,
   "metadata": {},
   "outputs": [
    {
     "data": {
      "text/html": [
       "<div>\n",
       "<style scoped>\n",
       "    .dataframe tbody tr th:only-of-type {\n",
       "        vertical-align: middle;\n",
       "    }\n",
       "\n",
       "    .dataframe tbody tr th {\n",
       "        vertical-align: top;\n",
       "    }\n",
       "\n",
       "    .dataframe thead th {\n",
       "        text-align: right;\n",
       "    }\n",
       "</style>\n",
       "<table border=\"1\" class=\"dataframe\">\n",
       "  <thead>\n",
       "    <tr style=\"text-align: right;\">\n",
       "      <th></th>\n",
       "      <th>publisher</th>\n",
       "      <th>genres</th>\n",
       "      <th>app_name</th>\n",
       "      <th>url</th>\n",
       "      <th>release_date</th>\n",
       "      <th>tags</th>\n",
       "      <th>reviews_url</th>\n",
       "      <th>specs</th>\n",
       "      <th>price</th>\n",
       "      <th>early_access</th>\n",
       "      <th>id</th>\n",
       "      <th>developer</th>\n",
       "    </tr>\n",
       "  </thead>\n",
       "  <tbody>\n",
       "    <tr>\n",
       "      <th>88310</th>\n",
       "      <td>Kotoshiro</td>\n",
       "      <td>[Action, Casual, Indie, Simulation, Strategy]</td>\n",
       "      <td>Lost Summoner Kitty</td>\n",
       "      <td>http://store.steampowered.com/app/761140/Lost_...</td>\n",
       "      <td>2018-01-04</td>\n",
       "      <td>[Strategy, Action, Indie, Casual, Simulation]</td>\n",
       "      <td>http://steamcommunity.com/app/761140/reviews/?...</td>\n",
       "      <td>[Single-player]</td>\n",
       "      <td>4.99</td>\n",
       "      <td>False</td>\n",
       "      <td>761140</td>\n",
       "      <td>Kotoshiro</td>\n",
       "    </tr>\n",
       "    <tr>\n",
       "      <th>88311</th>\n",
       "      <td>Making Fun, Inc.</td>\n",
       "      <td>[Free to Play, Indie, RPG, Strategy]</td>\n",
       "      <td>Ironbound</td>\n",
       "      <td>http://store.steampowered.com/app/643980/Ironb...</td>\n",
       "      <td>2018-01-04</td>\n",
       "      <td>[Free to Play, Strategy, Indie, RPG, Card Game...</td>\n",
       "      <td>http://steamcommunity.com/app/643980/reviews/?...</td>\n",
       "      <td>[Single-player, Multi-player, Online Multi-Pla...</td>\n",
       "      <td>Free To Play</td>\n",
       "      <td>False</td>\n",
       "      <td>643980</td>\n",
       "      <td>Secret Level SRL</td>\n",
       "    </tr>\n",
       "  </tbody>\n",
       "</table>\n",
       "</div>"
      ],
      "text/plain": [
       "              publisher                                         genres  \\\n",
       "88310         Kotoshiro  [Action, Casual, Indie, Simulation, Strategy]   \n",
       "88311  Making Fun, Inc.           [Free to Play, Indie, RPG, Strategy]   \n",
       "\n",
       "                  app_name                                                url  \\\n",
       "88310  Lost Summoner Kitty  http://store.steampowered.com/app/761140/Lost_...   \n",
       "88311            Ironbound  http://store.steampowered.com/app/643980/Ironb...   \n",
       "\n",
       "      release_date                                               tags  \\\n",
       "88310   2018-01-04      [Strategy, Action, Indie, Casual, Simulation]   \n",
       "88311   2018-01-04  [Free to Play, Strategy, Indie, RPG, Card Game...   \n",
       "\n",
       "                                             reviews_url  \\\n",
       "88310  http://steamcommunity.com/app/761140/reviews/?...   \n",
       "88311  http://steamcommunity.com/app/643980/reviews/?...   \n",
       "\n",
       "                                                   specs         price  \\\n",
       "88310                                    [Single-player]          4.99   \n",
       "88311  [Single-player, Multi-player, Online Multi-Pla...  Free To Play   \n",
       "\n",
       "      early_access      id         developer  \n",
       "88310        False  761140         Kotoshiro  \n",
       "88311        False  643980  Secret Level SRL  "
      ]
     },
     "execution_count": 40,
     "metadata": {},
     "output_type": "execute_result"
    }
   ],
   "source": [
    "df_games = df_games.drop(\"title\", axis=1)\n",
    "df_games.head(2)"
   ]
  },
  {
   "cell_type": "markdown",
   "metadata": {},
   "source": [
    "Reseteamos el index"
   ]
  },
  {
   "cell_type": "code",
   "execution_count": 41,
   "metadata": {},
   "outputs": [
    {
     "name": "stdout",
     "output_type": "stream",
     "text": [
      "<class 'pandas.core.frame.DataFrame'>\n",
      "RangeIndex: 32133 entries, 0 to 32132\n",
      "Data columns (total 12 columns):\n",
      " #   Column        Non-Null Count  Dtype \n",
      "---  ------        --------------  ----- \n",
      " 0   publisher     24083 non-null  object\n",
      " 1   genres        28851 non-null  object\n",
      " 2   app_name      32133 non-null  object\n",
      " 3   url           32133 non-null  object\n",
      " 4   release_date  30067 non-null  object\n",
      " 5   tags          31971 non-null  object\n",
      " 6   reviews_url   32132 non-null  object\n",
      " 7   specs         31464 non-null  object\n",
      " 8   price         30757 non-null  object\n",
      " 9   early_access  32133 non-null  object\n",
      " 10  id            32132 non-null  object\n",
      " 11  developer     28836 non-null  object\n",
      "dtypes: object(12)\n",
      "memory usage: 2.9+ MB\n"
     ]
    }
   ],
   "source": [
    "df_games = df_games.reset_index(drop=True)\n",
    "df_games.info()"
   ]
  },
  {
   "cell_type": "markdown",
   "metadata": {},
   "source": [
    "Considero innecesarias algunas columnas, asi que las eliminaremos:"
   ]
  },
  {
   "cell_type": "code",
   "execution_count": 42,
   "metadata": {},
   "outputs": [
    {
     "data": {
      "text/html": [
       "<div>\n",
       "<style scoped>\n",
       "    .dataframe tbody tr th:only-of-type {\n",
       "        vertical-align: middle;\n",
       "    }\n",
       "\n",
       "    .dataframe tbody tr th {\n",
       "        vertical-align: top;\n",
       "    }\n",
       "\n",
       "    .dataframe thead th {\n",
       "        text-align: right;\n",
       "    }\n",
       "</style>\n",
       "<table border=\"1\" class=\"dataframe\">\n",
       "  <thead>\n",
       "    <tr style=\"text-align: right;\">\n",
       "      <th></th>\n",
       "      <th>genres</th>\n",
       "      <th>app_name</th>\n",
       "      <th>release_date</th>\n",
       "      <th>price</th>\n",
       "      <th>id</th>\n",
       "      <th>developer</th>\n",
       "    </tr>\n",
       "  </thead>\n",
       "  <tbody>\n",
       "    <tr>\n",
       "      <th>0</th>\n",
       "      <td>[Action, Casual, Indie, Simulation, Strategy]</td>\n",
       "      <td>Lost Summoner Kitty</td>\n",
       "      <td>2018-01-04</td>\n",
       "      <td>4.99</td>\n",
       "      <td>761140</td>\n",
       "      <td>Kotoshiro</td>\n",
       "    </tr>\n",
       "    <tr>\n",
       "      <th>1</th>\n",
       "      <td>[Free to Play, Indie, RPG, Strategy]</td>\n",
       "      <td>Ironbound</td>\n",
       "      <td>2018-01-04</td>\n",
       "      <td>Free To Play</td>\n",
       "      <td>643980</td>\n",
       "      <td>Secret Level SRL</td>\n",
       "    </tr>\n",
       "    <tr>\n",
       "      <th>2</th>\n",
       "      <td>[Casual, Free to Play, Indie, Simulation, Sports]</td>\n",
       "      <td>Real Pool 3D - Poolians</td>\n",
       "      <td>2017-07-24</td>\n",
       "      <td>Free to Play</td>\n",
       "      <td>670290</td>\n",
       "      <td>Poolians.com</td>\n",
       "    </tr>\n",
       "  </tbody>\n",
       "</table>\n",
       "</div>"
      ],
      "text/plain": [
       "                                              genres                 app_name  \\\n",
       "0      [Action, Casual, Indie, Simulation, Strategy]      Lost Summoner Kitty   \n",
       "1               [Free to Play, Indie, RPG, Strategy]                Ironbound   \n",
       "2  [Casual, Free to Play, Indie, Simulation, Sports]  Real Pool 3D - Poolians   \n",
       "\n",
       "  release_date         price      id         developer  \n",
       "0   2018-01-04          4.99  761140         Kotoshiro  \n",
       "1   2018-01-04  Free To Play  643980  Secret Level SRL  \n",
       "2   2017-07-24  Free to Play  670290      Poolians.com  "
      ]
     },
     "execution_count": 42,
     "metadata": {},
     "output_type": "execute_result"
    }
   ],
   "source": [
    "a_eliminar = [\"publisher\",\"tags\", \"reviews_url\", \"specs\", \"early_access\", \"url\"]\n",
    "df_games = df_games.drop(a_eliminar, axis=1)\n",
    "\n",
    "df_games.head(3)"
   ]
  },
  {
   "cell_type": "code",
   "execution_count": 43,
   "metadata": {},
   "outputs": [
    {
     "name": "stdout",
     "output_type": "stream",
     "text": [
      "<class 'pandas.core.frame.DataFrame'>\n",
      "RangeIndex: 32133 entries, 0 to 32132\n",
      "Data columns (total 6 columns):\n",
      " #   Column        Non-Null Count  Dtype \n",
      "---  ------        --------------  ----- \n",
      " 0   genres        28851 non-null  object\n",
      " 1   app_name      32133 non-null  object\n",
      " 2   release_date  30067 non-null  object\n",
      " 3   price         30757 non-null  object\n",
      " 4   id            32132 non-null  object\n",
      " 5   developer     28836 non-null  object\n",
      "dtypes: object(6)\n",
      "memory usage: 1.5+ MB\n"
     ]
    }
   ],
   "source": [
    "df_games.info()"
   ]
  },
  {
   "cell_type": "markdown",
   "metadata": {},
   "source": [
    "Existe un nulo en id que se debe corregir"
   ]
  },
  {
   "cell_type": "code",
   "execution_count": 44,
   "metadata": {},
   "outputs": [
    {
     "data": {
      "text/html": [
       "<div>\n",
       "<style scoped>\n",
       "    .dataframe tbody tr th:only-of-type {\n",
       "        vertical-align: middle;\n",
       "    }\n",
       "\n",
       "    .dataframe tbody tr th {\n",
       "        vertical-align: top;\n",
       "    }\n",
       "\n",
       "    .dataframe thead th {\n",
       "        text-align: right;\n",
       "    }\n",
       "</style>\n",
       "<table border=\"1\" class=\"dataframe\">\n",
       "  <thead>\n",
       "    <tr style=\"text-align: right;\">\n",
       "      <th></th>\n",
       "      <th>genres</th>\n",
       "      <th>app_name</th>\n",
       "      <th>release_date</th>\n",
       "      <th>price</th>\n",
       "      <th>id</th>\n",
       "      <th>developer</th>\n",
       "    </tr>\n",
       "  </thead>\n",
       "  <tbody>\n",
       "    <tr>\n",
       "      <th>30959</th>\n",
       "      <td>[Action, Adventure]</td>\n",
       "      <td>Batman: Arkham City - Game of the Year Edition</td>\n",
       "      <td>2012-09-07</td>\n",
       "      <td>19.99</td>\n",
       "      <td>NaN</td>\n",
       "      <td>Rocksteady Studios,Feral Interactive (Mac)</td>\n",
       "    </tr>\n",
       "  </tbody>\n",
       "</table>\n",
       "</div>"
      ],
      "text/plain": [
       "                    genres                                        app_name  \\\n",
       "30959  [Action, Adventure]  Batman: Arkham City - Game of the Year Edition   \n",
       "\n",
       "      release_date  price   id                                   developer  \n",
       "30959   2012-09-07  19.99  NaN  Rocksteady Studios,Feral Interactive (Mac)  "
      ]
     },
     "execution_count": 44,
     "metadata": {},
     "output_type": "execute_result"
    }
   ],
   "source": [
    "df_games[df_games[\"id\"].isna()]"
   ]
  },
  {
   "cell_type": "markdown",
   "metadata": {},
   "source": [
    "Le colocaremos el id que tenia en la url"
   ]
  },
  {
   "cell_type": "code",
   "execution_count": 45,
   "metadata": {},
   "outputs": [
    {
     "data": {
      "text/plain": [
       "genres                                     [Action, Adventure]\n",
       "app_name        Batman: Arkham City - Game of the Year Edition\n",
       "release_date                                        2012-09-07\n",
       "price                                                    19.99\n",
       "id                                                      200260\n",
       "developer           Rocksteady Studios,Feral Interactive (Mac)\n",
       "Name: 30959, dtype: object"
      ]
     },
     "execution_count": 45,
     "metadata": {},
     "output_type": "execute_result"
    }
   ],
   "source": [
    "df_games.loc[30959, \"id\"] = 200260\n",
    "df_games.loc[30959]"
   ]
  },
  {
   "cell_type": "markdown",
   "metadata": {},
   "source": [
    "Minimizamos los valores de la columna 'price' y vemos los valores unicos de la columna 'price'"
   ]
  },
  {
   "cell_type": "code",
   "execution_count": 46,
   "metadata": {},
   "outputs": [
    {
     "data": {
      "text/plain": [
       "array([4.99, 'free to play', 0.99, 2.99, 3.99, 9.99, 18.99, 29.99, nan,\n",
       "       'free', 10.99, 1.59, 14.99, 1.99, 59.99, 8.99, 6.99, 7.99, 39.99,\n",
       "       19.99, 7.49, 12.99, 5.99, 2.49, 15.99, 1.25, 24.99, 17.99, 61.99,\n",
       "       3.49, 11.99, 13.99, 'free demo', 'play for free!', 34.99, 74.76,\n",
       "       1.49, 32.99, 99.99, 14.95, 69.99, 16.99, 79.99, 49.99, 5.0, 44.99,\n",
       "       13.98, 29.96, 119.99, 109.99, 149.99, 771.71, 'install now', 21.99,\n",
       "       89.99, 'play warmachine: tactics demo', 0.98, 139.92, 4.29, 64.99,\n",
       "       'free mod', 54.99, 74.99, 'install theme', 0.89, 'third-party',\n",
       "       0.5, 'play now', 299.99, 1.29, 3.0, 15.0, 5.49, 23.99, 49.0, 20.99,\n",
       "       10.93, 1.39, 'free hitman™ holiday pack', 36.99, 4.49, 2.0, 4.0,\n",
       "       9.0, 234.99, 1.95, 1.5, 199.0, 189.0, 6.66, 27.99, 10.49, 129.99,\n",
       "       179.0, 26.99, 399.99, 31.99, 399.0, 20.0, 40.0, 3.33, 199.99,\n",
       "       22.99, 320.0, 38.85, 71.7, 59.95, 995.0, 27.49, 3.39, 6.0, 19.95,\n",
       "       499.99, 16.06, 4.68, 131.4, 44.98, 202.76, 1.0, 2.3, 0.95, 172.24,\n",
       "       249.99, 2.97, 10.96, 10.0, 30.0, 2.66, 6.48, 19.29, 11.15, 18.9,\n",
       "       2.89, 'play the demo', 99.0, 87.94, 599.0, 8.98, 9.69, 0.49, 9.98,\n",
       "       9.95, 7.0, 'starting at $499.00', 'starting at $449.00', 12.89,\n",
       "       6.49, 1.87, 42.99, 41.99, 289.99, 'free to try', 23.96, 5.65, 12.0,\n",
       "       13.37, 189.96, 124.99, 'free movie', 19.98, 160.91, 'free to use'],\n",
       "      dtype=object)"
      ]
     },
     "execution_count": 46,
     "metadata": {},
     "output_type": "execute_result"
    }
   ],
   "source": [
    "def minimizar_texto(valor):\n",
    "    if isinstance(valor, str) and not valor.isdigit():\n",
    "        return valor.lower()\n",
    "    return valor\n",
    "\n",
    "df_games[\"price\"] = df_games[\"price\"].apply(minimizar_texto)\n",
    "df_games[\"price\"].unique()"
   ]
  },
  {
   "cell_type": "markdown",
   "metadata": {},
   "source": [
    "Ahora reemplazaremos todas las formas de 'free to play' por solamente free"
   ]
  },
  {
   "cell_type": "code",
   "execution_count": 47,
   "metadata": {},
   "outputs": [
    {
     "data": {
      "text/plain": [
       "array(['4.99', 'free', '0.99', '2.99', '3.99', '9.99', '18.99', '29.99',\n",
       "       'nan', '10.99', '1.59', '14.99', '1.99', '59.99', '8.99', '6.99',\n",
       "       '7.99', '39.99', '19.99', '7.49', '12.99', '5.99', '2.49', '15.99',\n",
       "       '1.25', '24.99', '17.99', '61.99', '3.49', '11.99', '13.99',\n",
       "       '34.99', '74.76', '1.49', '32.99', '99.99', '14.95', '69.99',\n",
       "       '16.99', '79.99', '49.99', '5.0', '44.99', '13.98', '29.96',\n",
       "       '119.99', '109.99', '149.99', '771.71', 'install now', '21.99',\n",
       "       '89.99', 'play warmachine: tactics demo', '0.98', '139.92', '4.29',\n",
       "       '64.99', '54.99', '74.99', 'install theme', '0.89', 'third-party',\n",
       "       '0.5', 'play now', '299.99', '1.29', '3.0', '15.0', '5.49',\n",
       "       '23.99', '49.0', '20.99', '10.93', '1.39', '36.99', '4.49', '2.0',\n",
       "       '4.0', '9.0', '234.99', '1.95', '1.5', '199.0', '189.0', '6.66',\n",
       "       '27.99', '10.49', '129.99', '179.0', '26.99', '399.99', '31.99',\n",
       "       '399.0', '20.0', '40.0', '3.33', '199.99', '22.99', '320.0',\n",
       "       '38.85', '71.7', '59.95', '995.0', '27.49', '3.39', '6.0', '19.95',\n",
       "       '499.99', '16.06', '4.68', '131.4', '44.98', '202.76', '1.0',\n",
       "       '2.3', '0.95', '172.24', '249.99', '2.97', '10.96', '10.0', '30.0',\n",
       "       '2.66', '6.48', '19.29', '11.15', '18.9', '2.89', 'play the demo',\n",
       "       '99.0', '87.94', '599.0', '8.98', '9.69', '0.49', '9.98', '9.95',\n",
       "       '7.0', 'starting at $499.00', 'starting at $449.00', '12.89',\n",
       "       '6.49', '1.87', '42.99', '41.99', '289.99', '23.96', '5.65',\n",
       "       '12.0', '13.37', '189.96', '124.99', '19.98', '160.91'],\n",
       "      dtype=object)"
      ]
     },
     "execution_count": 47,
     "metadata": {},
     "output_type": "execute_result"
    }
   ],
   "source": [
    "df_games[\"price\"] = df_games[\"price\"].astype(str).str.replace(r'.*free.*', 'free', regex=True)\n",
    "df_games[\"price\"].unique()"
   ]
  },
  {
   "cell_type": "markdown",
   "metadata": {},
   "source": [
    "Renombrar id por item_id"
   ]
  },
  {
   "cell_type": "code",
   "execution_count": 48,
   "metadata": {},
   "outputs": [],
   "source": [
    "df_games = df_games.rename(columns={\"id\": \"item_id\"})"
   ]
  },
  {
   "cell_type": "markdown",
   "metadata": {},
   "source": [
    "Cambiando el tipo de dato de item_id de object a int"
   ]
  },
  {
   "cell_type": "code",
   "execution_count": 49,
   "metadata": {},
   "outputs": [
    {
     "name": "stdout",
     "output_type": "stream",
     "text": [
      "<class 'pandas.core.frame.DataFrame'>\n",
      "RangeIndex: 32133 entries, 0 to 32132\n",
      "Data columns (total 6 columns):\n",
      " #   Column        Non-Null Count  Dtype \n",
      "---  ------        --------------  ----- \n",
      " 0   genres        28851 non-null  object\n",
      " 1   app_name      32133 non-null  object\n",
      " 2   release_date  30067 non-null  object\n",
      " 3   price         32133 non-null  object\n",
      " 4   item_id       32133 non-null  int32 \n",
      " 5   developer     28836 non-null  object\n",
      "dtypes: int32(1), object(5)\n",
      "memory usage: 1.3+ MB\n"
     ]
    }
   ],
   "source": [
    "df_games[\"item_id\"] = df_games[\"item_id\"].astype(int)\n",
    "df_games.info()"
   ]
  },
  {
   "cell_type": "markdown",
   "metadata": {},
   "source": [
    "## **Tablas para los EndPoints**\n",
    "### **Creamos una copia del dataframe de steam_games para crear una tabla para la primera consulta de nuestra API:**  \n",
    "**def developer( desarrollador : str ):**"
   ]
  },
  {
   "cell_type": "code",
   "execution_count": 50,
   "metadata": {},
   "outputs": [
    {
     "data": {
      "text/html": [
       "<div>\n",
       "<style scoped>\n",
       "    .dataframe tbody tr th:only-of-type {\n",
       "        vertical-align: middle;\n",
       "    }\n",
       "\n",
       "    .dataframe tbody tr th {\n",
       "        vertical-align: top;\n",
       "    }\n",
       "\n",
       "    .dataframe thead th {\n",
       "        text-align: right;\n",
       "    }\n",
       "</style>\n",
       "<table border=\"1\" class=\"dataframe\">\n",
       "  <thead>\n",
       "    <tr style=\"text-align: right;\">\n",
       "      <th></th>\n",
       "      <th>genres</th>\n",
       "      <th>app_name</th>\n",
       "      <th>release_date</th>\n",
       "      <th>price</th>\n",
       "      <th>item_id</th>\n",
       "      <th>developer</th>\n",
       "      <th>year</th>\n",
       "    </tr>\n",
       "  </thead>\n",
       "  <tbody>\n",
       "    <tr>\n",
       "      <th>0</th>\n",
       "      <td>[Action, Casual, Indie, Simulation, Strategy]</td>\n",
       "      <td>Lost Summoner Kitty</td>\n",
       "      <td>2018-01-04</td>\n",
       "      <td>4.99</td>\n",
       "      <td>761140</td>\n",
       "      <td>Kotoshiro</td>\n",
       "      <td>2018.0</td>\n",
       "    </tr>\n",
       "    <tr>\n",
       "      <th>1</th>\n",
       "      <td>[Free to Play, Indie, RPG, Strategy]</td>\n",
       "      <td>Ironbound</td>\n",
       "      <td>2018-01-04</td>\n",
       "      <td>free</td>\n",
       "      <td>643980</td>\n",
       "      <td>Secret Level SRL</td>\n",
       "      <td>2018.0</td>\n",
       "    </tr>\n",
       "    <tr>\n",
       "      <th>2</th>\n",
       "      <td>[Casual, Free to Play, Indie, Simulation, Sports]</td>\n",
       "      <td>Real Pool 3D - Poolians</td>\n",
       "      <td>2017-07-24</td>\n",
       "      <td>free</td>\n",
       "      <td>670290</td>\n",
       "      <td>Poolians.com</td>\n",
       "      <td>2017.0</td>\n",
       "    </tr>\n",
       "    <tr>\n",
       "      <th>3</th>\n",
       "      <td>[Action, Adventure, Casual]</td>\n",
       "      <td>弹炸人2222</td>\n",
       "      <td>2017-12-07</td>\n",
       "      <td>0.99</td>\n",
       "      <td>767400</td>\n",
       "      <td>彼岸领域</td>\n",
       "      <td>2017.0</td>\n",
       "    </tr>\n",
       "  </tbody>\n",
       "</table>\n",
       "</div>"
      ],
      "text/plain": [
       "                                              genres                 app_name  \\\n",
       "0      [Action, Casual, Indie, Simulation, Strategy]      Lost Summoner Kitty   \n",
       "1               [Free to Play, Indie, RPG, Strategy]                Ironbound   \n",
       "2  [Casual, Free to Play, Indie, Simulation, Sports]  Real Pool 3D - Poolians   \n",
       "3                        [Action, Adventure, Casual]                  弹炸人2222   \n",
       "\n",
       "  release_date price  item_id         developer    year  \n",
       "0   2018-01-04  4.99   761140         Kotoshiro  2018.0  \n",
       "1   2018-01-04  free   643980  Secret Level SRL  2018.0  \n",
       "2   2017-07-24  free   670290      Poolians.com  2017.0  \n",
       "3   2017-12-07  0.99   767400              彼岸领域  2017.0  "
      ]
     },
     "execution_count": 50,
     "metadata": {},
     "output_type": "execute_result"
    }
   ],
   "source": [
    "df_games_developer = df_games.copy()\n",
    "\n",
    "# Creamos una nueva columna 'year'\n",
    "df_games_developer[\"release_date\"] = pd.to_datetime(df_games[\"release_date\"], errors=\"coerce\")\n",
    "df_games_developer[\"year\"] = pd.to_datetime(df_games_developer[\"release_date\"]).dt.year\n",
    "df_games_developer.head(4)"
   ]
  },
  {
   "cell_type": "markdown",
   "metadata": {},
   "source": [
    "Como la columna 'year' es de tipo float, convertimos los NaN en 0 y pasamos a int:"
   ]
  },
  {
   "cell_type": "code",
   "execution_count": 51,
   "metadata": {},
   "outputs": [],
   "source": [
    "df_games_developer[\"year\"] = df_games_developer[\"year\"].fillna(0)\n",
    "df_games_developer[\"year\"] = df_games_developer[\"year\"].astype(int)"
   ]
  },
  {
   "cell_type": "markdown",
   "metadata": {},
   "source": [
    "Eliminamos columnas innecesarias"
   ]
  },
  {
   "cell_type": "code",
   "execution_count": 52,
   "metadata": {},
   "outputs": [],
   "source": [
    "drop_columnas = [\"genres\", \"app_name\", \"release_date\"]\n",
    "df_games_developer = df_games_developer.drop(drop_columnas, axis=1)"
   ]
  },
  {
   "cell_type": "code",
   "execution_count": 53,
   "metadata": {},
   "outputs": [
    {
     "data": {
      "text/html": [
       "<div>\n",
       "<style scoped>\n",
       "    .dataframe tbody tr th:only-of-type {\n",
       "        vertical-align: middle;\n",
       "    }\n",
       "\n",
       "    .dataframe tbody tr th {\n",
       "        vertical-align: top;\n",
       "    }\n",
       "\n",
       "    .dataframe thead th {\n",
       "        text-align: right;\n",
       "    }\n",
       "</style>\n",
       "<table border=\"1\" class=\"dataframe\">\n",
       "  <thead>\n",
       "    <tr style=\"text-align: right;\">\n",
       "      <th></th>\n",
       "      <th>price</th>\n",
       "      <th>item_id</th>\n",
       "      <th>developer</th>\n",
       "      <th>year</th>\n",
       "    </tr>\n",
       "  </thead>\n",
       "  <tbody>\n",
       "    <tr>\n",
       "      <th>0</th>\n",
       "      <td>4.99</td>\n",
       "      <td>761140</td>\n",
       "      <td>Kotoshiro</td>\n",
       "      <td>2018</td>\n",
       "    </tr>\n",
       "    <tr>\n",
       "      <th>1</th>\n",
       "      <td>free</td>\n",
       "      <td>643980</td>\n",
       "      <td>Secret Level SRL</td>\n",
       "      <td>2018</td>\n",
       "    </tr>\n",
       "    <tr>\n",
       "      <th>2</th>\n",
       "      <td>free</td>\n",
       "      <td>670290</td>\n",
       "      <td>Poolians.com</td>\n",
       "      <td>2017</td>\n",
       "    </tr>\n",
       "    <tr>\n",
       "      <th>3</th>\n",
       "      <td>0.99</td>\n",
       "      <td>767400</td>\n",
       "      <td>彼岸领域</td>\n",
       "      <td>2017</td>\n",
       "    </tr>\n",
       "    <tr>\n",
       "      <th>4</th>\n",
       "      <td>2.99</td>\n",
       "      <td>773570</td>\n",
       "      <td>NaN</td>\n",
       "      <td>0</td>\n",
       "    </tr>\n",
       "  </tbody>\n",
       "</table>\n",
       "</div>"
      ],
      "text/plain": [
       "  price  item_id         developer  year\n",
       "0  4.99   761140         Kotoshiro  2018\n",
       "1  free   643980  Secret Level SRL  2018\n",
       "2  free   670290      Poolians.com  2017\n",
       "3  0.99   767400              彼岸领域  2017\n",
       "4  2.99   773570               NaN     0"
      ]
     },
     "execution_count": 53,
     "metadata": {},
     "output_type": "execute_result"
    }
   ],
   "source": [
    "df_games_developer.head(5)"
   ]
  },
  {
   "cell_type": "markdown",
   "metadata": {},
   "source": [
    "### **Creamos una copia del dataframe de steam_games para crear una tabla para la tercera consulta de nuestra API:**  \n",
    "**def UserForGenre( genero : str ):**"
   ]
  },
  {
   "cell_type": "code",
   "execution_count": 54,
   "metadata": {},
   "outputs": [
    {
     "data": {
      "text/html": [
       "<div>\n",
       "<style scoped>\n",
       "    .dataframe tbody tr th:only-of-type {\n",
       "        vertical-align: middle;\n",
       "    }\n",
       "\n",
       "    .dataframe tbody tr th {\n",
       "        vertical-align: top;\n",
       "    }\n",
       "\n",
       "    .dataframe thead th {\n",
       "        text-align: right;\n",
       "    }\n",
       "</style>\n",
       "<table border=\"1\" class=\"dataframe\">\n",
       "  <thead>\n",
       "    <tr style=\"text-align: right;\">\n",
       "      <th></th>\n",
       "      <th>genres</th>\n",
       "      <th>app_name</th>\n",
       "      <th>release_date</th>\n",
       "      <th>price</th>\n",
       "      <th>item_id</th>\n",
       "      <th>developer</th>\n",
       "      <th>genre</th>\n",
       "    </tr>\n",
       "  </thead>\n",
       "  <tbody>\n",
       "    <tr>\n",
       "      <th>0</th>\n",
       "      <td>[Action, Casual, Indie, Simulation, Strategy]</td>\n",
       "      <td>Lost Summoner Kitty</td>\n",
       "      <td>2018-01-04</td>\n",
       "      <td>4.99</td>\n",
       "      <td>761140</td>\n",
       "      <td>Kotoshiro</td>\n",
       "      <td>Action</td>\n",
       "    </tr>\n",
       "    <tr>\n",
       "      <th>1</th>\n",
       "      <td>[Free to Play, Indie, RPG, Strategy]</td>\n",
       "      <td>Ironbound</td>\n",
       "      <td>2018-01-04</td>\n",
       "      <td>free</td>\n",
       "      <td>643980</td>\n",
       "      <td>Secret Level SRL</td>\n",
       "      <td>Free to Play</td>\n",
       "    </tr>\n",
       "    <tr>\n",
       "      <th>2</th>\n",
       "      <td>[Casual, Free to Play, Indie, Simulation, Sports]</td>\n",
       "      <td>Real Pool 3D - Poolians</td>\n",
       "      <td>2017-07-24</td>\n",
       "      <td>free</td>\n",
       "      <td>670290</td>\n",
       "      <td>Poolians.com</td>\n",
       "      <td>Casual</td>\n",
       "    </tr>\n",
       "    <tr>\n",
       "      <th>3</th>\n",
       "      <td>[Action, Adventure, Casual]</td>\n",
       "      <td>弹炸人2222</td>\n",
       "      <td>2017-12-07</td>\n",
       "      <td>0.99</td>\n",
       "      <td>767400</td>\n",
       "      <td>彼岸领域</td>\n",
       "      <td>Action</td>\n",
       "    </tr>\n",
       "    <tr>\n",
       "      <th>4</th>\n",
       "      <td>NaN</td>\n",
       "      <td>Log Challenge</td>\n",
       "      <td>NaN</td>\n",
       "      <td>2.99</td>\n",
       "      <td>773570</td>\n",
       "      <td>NaN</td>\n",
       "      <td>NaN</td>\n",
       "    </tr>\n",
       "  </tbody>\n",
       "</table>\n",
       "</div>"
      ],
      "text/plain": [
       "                                              genres                 app_name  \\\n",
       "0      [Action, Casual, Indie, Simulation, Strategy]      Lost Summoner Kitty   \n",
       "1               [Free to Play, Indie, RPG, Strategy]                Ironbound   \n",
       "2  [Casual, Free to Play, Indie, Simulation, Sports]  Real Pool 3D - Poolians   \n",
       "3                        [Action, Adventure, Casual]                  弹炸人2222   \n",
       "4                                                NaN            Log Challenge   \n",
       "\n",
       "  release_date price  item_id         developer         genre  \n",
       "0   2018-01-04  4.99   761140         Kotoshiro        Action  \n",
       "1   2018-01-04  free   643980  Secret Level SRL  Free to Play  \n",
       "2   2017-07-24  free   670290      Poolians.com        Casual  \n",
       "3   2017-12-07  0.99   767400              彼岸领域        Action  \n",
       "4          NaN  2.99   773570               NaN           NaN  "
      ]
     },
     "execution_count": 54,
     "metadata": {},
     "output_type": "execute_result"
    }
   ],
   "source": [
    "df_user_genre = df_games.copy()\n",
    "# Creo una nueva columna que posea el primer elemento de cada lista de la columna 'genres'\n",
    "# Para esto creo una funcion:\n",
    "def obtener_primer_elemento(lista):\n",
    "    if isinstance(lista, list):\n",
    "        return lista[0]\n",
    "    else:\n",
    "        return np.nan\n",
    "    \n",
    "df_user_genre[\"genre\"] = df_user_genre[\"genres\"].apply(obtener_primer_elemento)\n",
    "df_user_genre.head(5)"
   ]
  },
  {
   "cell_type": "markdown",
   "metadata": {},
   "source": [
    "Eliminamos las columnas innecesarias para esta consulta"
   ]
  },
  {
   "cell_type": "code",
   "execution_count": 55,
   "metadata": {},
   "outputs": [
    {
     "data": {
      "text/html": [
       "<div>\n",
       "<style scoped>\n",
       "    .dataframe tbody tr th:only-of-type {\n",
       "        vertical-align: middle;\n",
       "    }\n",
       "\n",
       "    .dataframe tbody tr th {\n",
       "        vertical-align: top;\n",
       "    }\n",
       "\n",
       "    .dataframe thead th {\n",
       "        text-align: right;\n",
       "    }\n",
       "</style>\n",
       "<table border=\"1\" class=\"dataframe\">\n",
       "  <thead>\n",
       "    <tr style=\"text-align: right;\">\n",
       "      <th></th>\n",
       "      <th>release_date</th>\n",
       "      <th>item_id</th>\n",
       "      <th>genre</th>\n",
       "    </tr>\n",
       "  </thead>\n",
       "  <tbody>\n",
       "    <tr>\n",
       "      <th>0</th>\n",
       "      <td>2018-01-04</td>\n",
       "      <td>761140</td>\n",
       "      <td>Action</td>\n",
       "    </tr>\n",
       "    <tr>\n",
       "      <th>1</th>\n",
       "      <td>2018-01-04</td>\n",
       "      <td>643980</td>\n",
       "      <td>Free to Play</td>\n",
       "    </tr>\n",
       "    <tr>\n",
       "      <th>2</th>\n",
       "      <td>2017-07-24</td>\n",
       "      <td>670290</td>\n",
       "      <td>Casual</td>\n",
       "    </tr>\n",
       "    <tr>\n",
       "      <th>3</th>\n",
       "      <td>2017-12-07</td>\n",
       "      <td>767400</td>\n",
       "      <td>Action</td>\n",
       "    </tr>\n",
       "    <tr>\n",
       "      <th>4</th>\n",
       "      <td>NaN</td>\n",
       "      <td>773570</td>\n",
       "      <td>NaN</td>\n",
       "    </tr>\n",
       "  </tbody>\n",
       "</table>\n",
       "</div>"
      ],
      "text/plain": [
       "  release_date  item_id         genre\n",
       "0   2018-01-04   761140        Action\n",
       "1   2018-01-04   643980  Free to Play\n",
       "2   2017-07-24   670290        Casual\n",
       "3   2017-12-07   767400        Action\n",
       "4          NaN   773570           NaN"
      ]
     },
     "execution_count": 55,
     "metadata": {},
     "output_type": "execute_result"
    }
   ],
   "source": [
    "drop_cols = [\"genres\", \"app_name\", \"price\", \"developer\"]\n",
    "df_user_genre = df_user_genre.drop(drop_cols, axis=1)\n",
    "df_user_genre.head(5)"
   ]
  },
  {
   "cell_type": "markdown",
   "metadata": {},
   "source": [
    "### **Creamos una copia del dataframe de steam_games para crear una tabla para la cuarta consulta de nuestra API:**  \n",
    "**def best_developer_year( año : int ):**"
   ]
  },
  {
   "cell_type": "code",
   "execution_count": 56,
   "metadata": {},
   "outputs": [
    {
     "data": {
      "text/html": [
       "<div>\n",
       "<style scoped>\n",
       "    .dataframe tbody tr th:only-of-type {\n",
       "        vertical-align: middle;\n",
       "    }\n",
       "\n",
       "    .dataframe tbody tr th {\n",
       "        vertical-align: top;\n",
       "    }\n",
       "\n",
       "    .dataframe thead th {\n",
       "        text-align: right;\n",
       "    }\n",
       "</style>\n",
       "<table border=\"1\" class=\"dataframe\">\n",
       "  <thead>\n",
       "    <tr style=\"text-align: right;\">\n",
       "      <th></th>\n",
       "      <th>price</th>\n",
       "      <th>item_id</th>\n",
       "      <th>developer</th>\n",
       "      <th>year</th>\n",
       "    </tr>\n",
       "  </thead>\n",
       "  <tbody>\n",
       "    <tr>\n",
       "      <th>0</th>\n",
       "      <td>4.99</td>\n",
       "      <td>761140</td>\n",
       "      <td>Kotoshiro</td>\n",
       "      <td>2018</td>\n",
       "    </tr>\n",
       "    <tr>\n",
       "      <th>1</th>\n",
       "      <td>free</td>\n",
       "      <td>643980</td>\n",
       "      <td>Secret Level SRL</td>\n",
       "      <td>2018</td>\n",
       "    </tr>\n",
       "    <tr>\n",
       "      <th>2</th>\n",
       "      <td>free</td>\n",
       "      <td>670290</td>\n",
       "      <td>Poolians.com</td>\n",
       "      <td>2017</td>\n",
       "    </tr>\n",
       "  </tbody>\n",
       "</table>\n",
       "</div>"
      ],
      "text/plain": [
       "  price  item_id         developer  year\n",
       "0  4.99   761140         Kotoshiro  2018\n",
       "1  free   643980  Secret Level SRL  2018\n",
       "2  free   670290      Poolians.com  2017"
      ]
     },
     "execution_count": 56,
     "metadata": {},
     "output_type": "execute_result"
    }
   ],
   "source": [
    "df_best_developer = df_games_developer.copy()\n",
    "df_best_developer.head(3)"
   ]
  },
  {
   "cell_type": "markdown",
   "metadata": {},
   "source": [
    "Eliminamos las columnas innecesarias (solo necesitamos item_id, developer, year):"
   ]
  },
  {
   "cell_type": "code",
   "execution_count": 57,
   "metadata": {},
   "outputs": [
    {
     "data": {
      "text/html": [
       "<div>\n",
       "<style scoped>\n",
       "    .dataframe tbody tr th:only-of-type {\n",
       "        vertical-align: middle;\n",
       "    }\n",
       "\n",
       "    .dataframe tbody tr th {\n",
       "        vertical-align: top;\n",
       "    }\n",
       "\n",
       "    .dataframe thead th {\n",
       "        text-align: right;\n",
       "    }\n",
       "</style>\n",
       "<table border=\"1\" class=\"dataframe\">\n",
       "  <thead>\n",
       "    <tr style=\"text-align: right;\">\n",
       "      <th></th>\n",
       "      <th>item_id</th>\n",
       "      <th>developer</th>\n",
       "      <th>year</th>\n",
       "    </tr>\n",
       "  </thead>\n",
       "  <tbody>\n",
       "    <tr>\n",
       "      <th>0</th>\n",
       "      <td>761140</td>\n",
       "      <td>Kotoshiro</td>\n",
       "      <td>2018</td>\n",
       "    </tr>\n",
       "    <tr>\n",
       "      <th>1</th>\n",
       "      <td>643980</td>\n",
       "      <td>Secret Level SRL</td>\n",
       "      <td>2018</td>\n",
       "    </tr>\n",
       "    <tr>\n",
       "      <th>2</th>\n",
       "      <td>670290</td>\n",
       "      <td>Poolians.com</td>\n",
       "      <td>2017</td>\n",
       "    </tr>\n",
       "    <tr>\n",
       "      <th>3</th>\n",
       "      <td>767400</td>\n",
       "      <td>彼岸领域</td>\n",
       "      <td>2017</td>\n",
       "    </tr>\n",
       "    <tr>\n",
       "      <th>4</th>\n",
       "      <td>773570</td>\n",
       "      <td>NaN</td>\n",
       "      <td>0</td>\n",
       "    </tr>\n",
       "  </tbody>\n",
       "</table>\n",
       "</div>"
      ],
      "text/plain": [
       "   item_id         developer  year\n",
       "0   761140         Kotoshiro  2018\n",
       "1   643980  Secret Level SRL  2018\n",
       "2   670290      Poolians.com  2017\n",
       "3   767400              彼岸领域  2017\n",
       "4   773570               NaN     0"
      ]
     },
     "execution_count": 57,
     "metadata": {},
     "output_type": "execute_result"
    }
   ],
   "source": [
    "df_best_developer = df_best_developer.drop(\"price\", axis=1)\n",
    "df_best_developer.head(5)"
   ]
  },
  {
   "cell_type": "markdown",
   "metadata": {},
   "source": [
    "## **Empezamos la Carga**\n",
    "**Guardaremos los dataframes en archivos CSV**"
   ]
  },
  {
   "cell_type": "markdown",
   "metadata": {},
   "source": [
    "Dataset steam_games para EDA:"
   ]
  },
  {
   "cell_type": "code",
   "execution_count": 58,
   "metadata": {},
   "outputs": [
    {
     "name": "stdout",
     "output_type": "stream",
     "text": [
      "<class 'pandas.core.frame.DataFrame'>\n",
      "RangeIndex: 32133 entries, 0 to 32132\n",
      "Data columns (total 6 columns):\n",
      " #   Column        Non-Null Count  Dtype \n",
      "---  ------        --------------  ----- \n",
      " 0   genres        28851 non-null  object\n",
      " 1   app_name      32133 non-null  object\n",
      " 2   release_date  30067 non-null  object\n",
      " 3   price         32133 non-null  object\n",
      " 4   item_id       32133 non-null  int32 \n",
      " 5   developer     28836 non-null  object\n",
      "dtypes: int32(1), object(5)\n",
      "memory usage: 1.3+ MB\n"
     ]
    }
   ],
   "source": [
    "df_games.info()"
   ]
  },
  {
   "cell_type": "code",
   "execution_count": 59,
   "metadata": {},
   "outputs": [],
   "source": [
    "df_games.to_parquet(\"./datasets/steam_games.parquet\")"
   ]
  },
  {
   "cell_type": "markdown",
   "metadata": {},
   "source": [
    "Dataset games_developer para EndPoint (Consulta 1: def developer( desarrollador : str ) ):"
   ]
  },
  {
   "cell_type": "code",
   "execution_count": 60,
   "metadata": {},
   "outputs": [],
   "source": [
    "df_games_developer.to_parquet(\"./datasets_endpoints/games_developer.parquet\")"
   ]
  },
  {
   "cell_type": "markdown",
   "metadata": {},
   "source": [
    "Dataset user_genre para EndPoint (Consulta 3: ddef UserForGenre( genero : str ) ):"
   ]
  },
  {
   "cell_type": "code",
   "execution_count": 63,
   "metadata": {},
   "outputs": [],
   "source": [
    "df_user_genre.to_parquet(\"./datasets_endpoints/games_user_genre.parquet\")"
   ]
  },
  {
   "cell_type": "markdown",
   "metadata": {},
   "source": [
    "Dataset best_developer_year para EndPoint (Consulta 4: def best_developer_year( año : int ) )"
   ]
  },
  {
   "cell_type": "code",
   "execution_count": 62,
   "metadata": {},
   "outputs": [],
   "source": [
    "df_best_developer.to_parquet(\"./datasets_endpoints/best_developer_year.parquet\")"
   ]
  }
 ],
 "metadata": {
  "kernelspec": {
   "display_name": "venv",
   "language": "python",
   "name": "python3"
  },
  "language_info": {
   "codemirror_mode": {
    "name": "ipython",
    "version": 3
   },
   "file_extension": ".py",
   "mimetype": "text/x-python",
   "name": "python",
   "nbconvert_exporter": "python",
   "pygments_lexer": "ipython3",
   "version": "3.10.11"
  }
 },
 "nbformat": 4,
 "nbformat_minor": 2
}
